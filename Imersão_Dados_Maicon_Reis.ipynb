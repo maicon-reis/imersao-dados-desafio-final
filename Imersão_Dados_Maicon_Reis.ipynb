{
  "nbformat": 4,
  "nbformat_minor": 0,
  "metadata": {
    "colab": {
      "name": "Imersão_Dados-Maicon_Reis.ipynb",
      "private_outputs": true,
      "provenance": [],
      "authorship_tag": "ABX9TyMcwyrQoTmnOjJ/2qbF1rKE",
      "include_colab_link": true
    },
    "kernelspec": {
      "name": "python3",
      "display_name": "Python 3"
    },
    "language_info": {
      "name": "python"
    }
  },
  "cells": [
    {
      "cell_type": "markdown",
      "metadata": {
        "id": "view-in-github",
        "colab_type": "text"
      },
      "source": [
        "<a href=\"https://colab.research.google.com/github/maicon-reis/imersao-dados-desafio-final/blob/main/Imers%C3%A3o_Dados_Maicon_Reis.ipynb\" target=\"_parent\"><img src=\"https://colab.research.google.com/assets/colab-badge.svg\" alt=\"Open In Colab\"/></a>"
      ]
    },
    {
      "cell_type": "markdown",
      "metadata": {
        "id": "dKMJh8qBP5xO"
      },
      "source": [
        "##**Imersão Dados - Alura**"
      ]
    },
    {
      "cell_type": "markdown",
      "metadata": {
        "id": "FoiK6e-plJ6y"
      },
      "source": [
        "A terceira edição da Imersão Dados da Alura é baseado em um desafio do Kaggle ([link do desafio](https://www.kaggle.com/c/lish-moa/overview/timeline)) que objetiva criar um algoritmo de classificação multi-label de compostos baseado em sua atividade biológica.\n",
        "\n",
        "Nesse projeto serão utilizados dois datasets, sendo o primeiro é dividido em três grupos de dados:\n",
        "\n",
        "* Três colunas com informações categóricas: Além do 'id' temos [1] **tratamento**, se a amostra foi submetida ao composto ou é uma amostra de controle; [2] **droga** que descreveve o tipo de tratamento que cada amostra foi submetida; [3] **tempo**, que cada amostra foi submetida ao tratamento e [4] **dose**, que indica a dosagem utilizada no tratamento;\n",
        "* As **expressões gênicas** (genes) que são nomeadas como \"g-\" seguido de um número sequencial;\n",
        "* As **linhagens celulares** (células) nomeadas como \"c-\" seguido de um número sequencial.\n",
        "\n",
        "Tanto as expessões gênicas quanto as linhagens celulares contém resposta simultânea de diferentes linhagens celulares à utilização de determinado composto. Cada linha, contendo essas respostas é chamado de **assinatura celular**.\n",
        "\n",
        "Já o segundo dataset é composto por mecanismos de ação do composto onde cada linha é resultado de um experimento na primeira base de dados, para tanto determinada coluna será marcada como 1. Nas colunas, além do **id**, são compostas por elementos que potencializam ou bloqueiam o receptor ou inibidores, utilizados para enzimas.\n",
        "\n",
        "\n",
        "\n"
      ]
    },
    {
      "cell_type": "markdown",
      "metadata": {
        "id": "rPH9qiyhWKOq"
      },
      "source": [
        "## **1. Análise do Dataset de Experimentos**\n",
        "\n",
        "<img alt=\"Hipótese para o mecanismo de ação dos medicamentos homeopáticos.... |  Download Scientific Diagram\" src=\"https://www.researchgate.net/publication/303321516/figure/fig2/AS:363187699503118@1463602103855/Hipotese-para-o-mecanismo-de-acao-dos-medicamentos-homeopaticos-Durante-o-processo-de.png\"></img>\n",
        "\n",
        "Na primeira parte do projeto vamos analisar o primeiro dataset contendo os experimentos.\n",
        "\n",
        "Nas quatro primeiras colunas, além do id, temos o tratamento, o tempo, a dose e a droga (que mudaremos o nome para composto, para melhor adequar a terminologia). Após essas colunas temos uma sequência de colunas nomenclaturadas com g- e uma numeração e ademais c- e uma numeração sequencial.\n",
        "\n",
        "Dessa forma cada linhagem celular, seja expressões gênicas ou de viabilidade celular, foi exposta a um determinado a um composto ou situando-se como amostra de controle, por um período de tempo, a uma determinada dosagem.\n",
        "\n",
        "Os valores numéricos contidos nas colunas g_ correspondem ao resultado do caminho da informação biológica com destino à proteína, pela ativação ou não de um mecanismo de ação. Já o valor das colunas c_ é a viabilidade celular, ou seja, o quanto as células sobreviveram ou não à exposição do composto. O sucesso do que está se propondo."
      ]
    },
    {
      "cell_type": "code",
      "metadata": {
        "id": "GxMFImDf5Jzb"
      },
      "source": [
        "# bibliotecas\n",
        "import pandas as pd\n",
        "import matplotlib.pyplot as plt\n",
        "import seaborn as sns\n",
        "import numpy as np\n",
        "\n",
        "from sklearn.preprocessing import LabelEncoder\n",
        "from sklearn.model_selection import train_test_split, cross_val_predict\n",
        "from sklearn.metrics import accuracy_score, classification_report\n",
        "from sklearn.ensemble import RandomForestClassifier"
      ],
      "execution_count": null,
      "outputs": []
    },
    {
      "cell_type": "markdown",
      "metadata": {
        "id": "bIXrVO_0uirc"
      },
      "source": [
        "Desde já importaremos os dois datasets. Nessa primeira parte, só utilizaremos o arquivo **arquivo_experimentos**, na segunda parte utilizaremos ambos."
      ]
    },
    {
      "cell_type": "code",
      "metadata": {
        "id": "YsHSOzjB6xo2"
      },
      "source": [
        "# importação dos arquivos\n",
        "arquivo_experimentos = \"https://github.com/maicon-reis/imersao-dados-desafio-final/blob/main/Dados/dados_experimentos.zip?raw=true\"\n",
        "arquivo_resultados = \"https://github.com/maicon-reis/imersao-dados-desafio-final/blob/main/Dados/dados_resultados.csv?raw=true\""
      ],
      "execution_count": null,
      "outputs": []
    },
    {
      "cell_type": "markdown",
      "metadata": {
        "id": "ewYkcNo7mDsS"
      },
      "source": [
        "Na leitura do arquivo para a criação do dataset (df_experimentos) foi utilizado o parâmetro nomeado `compression=` informando o tipo de compressão utilizada no arquivo. Dessa forma o próprio pandas descompacta o arquivo e faz o carregamento do dataset."
      ]
    },
    {
      "cell_type": "code",
      "metadata": {
        "id": "Y4mbUnLZ64aL"
      },
      "source": [
        "# carregando o dataset com os experimentos\n",
        "df_experimentos = pd.read_csv( arquivo_experimentos, compression='zip' )\n",
        "\n",
        "# verificando as cinco primeiras linhas do dataset df_experimentos\n",
        "df_experimentos.head()"
      ],
      "execution_count": null,
      "outputs": []
    },
    {
      "cell_type": "code",
      "metadata": {
        "id": "MZhY9GW59mms"
      },
      "source": [
        "# verificando quantidade de linhas e colunas do datase\n",
        "linhas, colunas = df_experimentos.shape\n",
        "print(f'Número de linhas: {linhas}')\n",
        "print(f'Número de colunas: {colunas}')"
      ],
      "execution_count": null,
      "outputs": []
    },
    {
      "cell_type": "markdown",
      "metadata": {
        "id": "BmAlEkc2ZDyu"
      },
      "source": [
        "A partir da informação acima nós passamos a saber que o dataset tem 23814 linhas e 877 colunas. Das 877 colunas as cinco primeiras são compostas por id, tratamento, tempo, dose e droga. Precisamos saber agora quantas colunas são iniciados por g e por c."
      ]
    },
    {
      "cell_type": "code",
      "metadata": {
        "id": "0sgK4XQMQ_3i"
      },
      "source": [
        "# separando colunas de genes e células\n",
        "g_cols = [ g for g in df_experimentos.columns if g.startswith('g-')]\n",
        "c_cols = [ c for c in df_experimentos.columns if c.startswith('c-')]\n",
        "\n",
        "print(f'Número de g-: {len(g_cols)} (Indo de g-0 até g-{len(g_cols) - 1}).')\n",
        "print(f'Número de c-: {len(c_cols)} (Indo de c-0 até c-{len(c_cols) - 1}).')"
      ],
      "execution_count": null,
      "outputs": []
    },
    {
      "cell_type": "markdown",
      "metadata": {
        "id": "r10m2JouvTs-"
      },
      "source": [
        "Verificamos que existem 772 colunas de gênicas e 100 colunas de viabilidades celulares. Iremos agora fazer algumas adequações no dataset para que possamos fazer uma visualização gráfica das informações para melhor entender os dados."
      ]
    },
    {
      "cell_type": "code",
      "metadata": {
        "id": "ebF1_lvDoQMd"
      },
      "source": [
        "# removendo os '-' dos nomes das colunas\n",
        "df_experimentos.columns = [i.replace('-', '') for i in df_experimentos.columns]\n",
        "\n",
        "# substituindo a palavra droga por composto para adequar a nomenclatura\n",
        "mapa = {'droga': 'composto'}\n",
        "df_experimentos.rename(columns=mapa, inplace=True)"
      ],
      "execution_count": null,
      "outputs": []
    },
    {
      "cell_type": "code",
      "metadata": {
        "id": "PJQA5wOfAXaX"
      },
      "source": [
        "df_experimentos.info"
      ],
      "execution_count": null,
      "outputs": []
    },
    {
      "cell_type": "markdown",
      "metadata": {
        "id": "f6PXj8dLKMvM"
      },
      "source": [
        "No gráfico abaixo nós veremos os tipos e proporções referentes às séries tratamento, tempo e dose."
      ]
    },
    {
      "cell_type": "code",
      "metadata": {
        "id": "ekYaS4AxnLqY"
      },
      "source": [
        "# visualiza tipos e proporções de variáveis\n",
        "plt.style.use('ggplot')\n",
        "fig, axs = plt.subplots(1, 3, figsize=(15, 3))\n",
        "\n",
        "axs[0].bar(df_experimentos['tratamento'].value_counts().index,\n",
        "           df_experimentos['tratamento'].value_counts(normalize=True).values)\n",
        "axs[0].set_ylabel('Quantidade')\n",
        "axs[0].set_title('Tratamento')\n",
        "\n",
        "axs[1].bar(['12','24','48'],\n",
        "           df_experimentos['tempo'].value_counts(normalize=True).values)\n",
        "axs[1].set_title('Tempo')\n",
        "\n",
        "axs[2].bar(df_experimentos['dose'].value_counts().index,\n",
        "           df_experimentos['dose'].value_counts(normalize=True).values)\n",
        "axs[2].set_title('Dose')\n",
        "\n",
        "plt.tight_layout()\n",
        "plt.show()"
      ],
      "execution_count": null,
      "outputs": []
    },
    {
      "cell_type": "markdown",
      "metadata": {
        "id": "KoeZGkBEthoY"
      },
      "source": [
        "Verifica-se que a variável tratamento apresenta dois tipos: com droga e com controle. Essa coluna é altamente desbalanceada, o que pode decorrer que a inclusão do tipo 'com_controle' par ser objeto de comparação, ou seja, as amostras controle foram submetidas às mesmas condições que as amostras tratadas com drogas, exceto pelo fato de não ter sido ministrado o composto, para com isso verificar o resultado do experimento nessas células.\n",
        "\n",
        "Já a variável tempo é dividida em 12, 24 e 48 períodos de tempo. Por fim a variável dose é dividida em D1 e D2. Ambas as colunas tempo e dose, estão relativamente balanceadas.\n",
        "\n",
        "No gráfico acima, nós conseguimos verificar características das colunas individualmente. Mas nós também queremos entender características dessas colunas em conjunto e formulei a seguinte pergunta: Como o tratamento foi distribuído por dose no tempo?\n",
        "\n",
        "Chegamos no resultado abaixo."
      ]
    },
    {
      "cell_type": "code",
      "metadata": {
        "id": "WVurJ7IFqWwL"
      },
      "source": [
        "# Verificando as variáveis em conjunto de forma numérica\n",
        "df_experimentos.groupby(['dose', 'tratamento', 'tempo']).size().unstack()"
      ],
      "execution_count": null,
      "outputs": []
    },
    {
      "cell_type": "markdown",
      "metadata": {
        "id": "IqF7dzf6CEVe"
      },
      "source": [
        "Como em programação o mesmo resultado pode ser obtido por vários meios, o resultado acima também poderia ser obtido utilizando a função crosstab, dessa forma:\n",
        "\n",
        "```\n",
        "# Utilizando crosstab para verificar colunas em conjunto\n",
        "pd.crosstab([df_experimentos['dose'], df_experimentos['tratamento']], df_experimentos['tempo'])\n",
        "```\n",
        "\n"
      ]
    },
    {
      "cell_type": "code",
      "metadata": {
        "id": "0VpWWkmxoQwO"
      },
      "source": [
        "# Verificando as variáveis em conjunto de forma gráfica\n",
        "ax = sns.catplot(x='tratamento', hue='dose', col='tempo',\n",
        "                data=df_experimentos, kind='count', height=4)\n",
        "\n",
        "plt.tight_layout()\n",
        "plt.show()"
      ],
      "execution_count": null,
      "outputs": []
    },
    {
      "cell_type": "markdown",
      "metadata": {
        "id": "5x8md7phuHzZ"
      },
      "source": [
        "A partir da tabela e gráficos acima, percebemos que há uma equivalência entre as doses aplicadas, tanto entre o tratamento com composto e com controle, bem como entre os períodos 24, 48 e 72.\n",
        "\n",
        "A exceção é a aplicação da dose D1, com droga no período 48, que é bem maior do que a dose D2, com droga no mesmo período, e também é maior do que as doses D1 e D2 nos demais períodos. Entretanto essa diferença não é substancial a ponto de desbalancear esses tipos."
      ]
    },
    {
      "cell_type": "code",
      "metadata": {
        "id": "2LQm9zMByvk-"
      },
      "source": [
        "# verificando quantidaded de elementos únicos da coluna composto\n",
        "len(df_experimentos[ 'composto' ].unique())"
      ],
      "execution_count": null,
      "outputs": []
    },
    {
      "cell_type": "markdown",
      "metadata": {
        "id": "L_TgQwloLRbf"
      },
      "source": [
        "Como a coluna composto contém 3286 tipos únicos, criaremos um gráfico contendo os 5 maiores tipos da coluna composto."
      ]
    },
    {
      "cell_type": "code",
      "metadata": {
        "id": "IMf229ddBeaS"
      },
      "source": [
        "# visualizando os cinco maiores tipos de compostos\n",
        "cod_compostos = df_experimentos[ 'composto' ].value_counts()[ :5 ].index\n",
        "\n",
        "plt.figure( figsize=( 8, 6 ) )\n",
        "ax = sns.countplot( x='composto',\n",
        "                   data=df_experimentos.query('composto in @cod_compostos'),\n",
        "                   order = list(cod_compostos))\n",
        "ax.set_title( 'Compostos Mais Utilizados', pad=20, fontsize=22 )\n",
        "ax.set_ylabel( 'Número de Ocorrências' )\n",
        "ax.set_xlabel( 'Composto' )\n",
        "\n",
        "plt.tight_layout()\n",
        "plt.show()"
      ],
      "execution_count": null,
      "outputs": []
    },
    {
      "cell_type": "markdown",
      "metadata": {
        "id": "pQU1I3t4nMRz"
      },
      "source": [
        "Após ter verificado as características das variáveis categóricas, vamos tentar entender algumas características das colunas que contém as expressões gênicas e as linhagens celulares. Dessa forma inicialmente criarei uma função que cria um gráfio de histograma para que possa ver a distribuição das colunas, notadamente as colunas de expressões gênicas e de linhagem celular. Então é necessário passar como parâmetro o nome da coluna que deseja ver a distribuição, caso a função seja chamada sem passar parâmetro, ela exibirá o gráfico da coluna 'g0'.\n",
        "\n",
        "Como resultado, verifiquei que a distribuição das colunas de expressões gênicas se assemelham a uma distribuição normal, tendo a média, moda e mediana bastante próximas, muitas vezes se sobrepondo. Já em relação as linhagens celulares, algumas colunas apresentam em que o valor mais frequente é o -10, deslocando a moda para esse valor, e consequentemente deslocando a média para a esquerda da mediana. Tal característica, embora não seja objetivo desse projeto, deve ser melhor estudado para identificar o que a ocasiona."
      ]
    },
    {
      "cell_type": "code",
      "metadata": {
        "id": "Ov5_dVnNFAq8"
      },
      "source": [
        "len(df_experimentos['g0'].unique())"
      ],
      "execution_count": null,
      "outputs": []
    },
    {
      "cell_type": "code",
      "metadata": {
        "id": "Ch63ixRL6mkS"
      },
      "source": [
        "# cria função de histograma para verificar informações de distribuição das colunas \n",
        "def cria_histograma(coluna='g0'):\n",
        "  media = df_experimentos[coluna].mean()\n",
        "  moda = df_experimentos[coluna].mode()[0]\n",
        "  mediana = df_experimentos[coluna].median()\n",
        "\n",
        "  plt.figure( figsize=( 8,6 ) )\n",
        "  df_experimentos[coluna].hist( bins=100, color='#bdbdbd' )\n",
        "\n",
        "  plt.axvline(media, color='green', linestyle='--')\n",
        "  plt.axvline(moda, color='blue', linestyle='--')\n",
        "  plt.axvline(mediana, color='red', linestyle='--')\n",
        "\n",
        "  plt.legend({'Média': media, 'Moda': moda, 'Mediana': mediana})\n",
        "  plt.show()\n",
        "  return None"
      ],
      "execution_count": null,
      "outputs": []
    },
    {
      "cell_type": "code",
      "metadata": {
        "id": "IVXEXoB47Ly6"
      },
      "source": [
        "# chamando a função para criar histograma das colunas g e c\n",
        "cria_histograma('c45')"
      ],
      "execution_count": null,
      "outputs": []
    },
    {
      "cell_type": "markdown",
      "metadata": {
        "id": "kWv19EchEJ0T"
      },
      "source": [
        "Finalizando a fase de análise exploratória do dataset de experimentos eu criei uma função para visualizar a correlação entre as colunas, tanto de expressões gênicas e linhagens celulares através de um gráfico de heatmap.\n",
        "\n",
        "Verifiquei, no geral, uma baixa correlação entre as colunas de expressões gênicas entre si, e uma alta correlação positiva entre as colunas de linhagens celulares.\n",
        "\n",
        "A alta correlação dos tipos celulares pode ser que devido ao submissão do conjunto celular que os faz reagir de forma similar aos impactos do composto. Tais fatos devem ser motivo de aprofundamento de estudos, o que não é objetivo desse projeto."
      ]
    },
    {
      "cell_type": "code",
      "metadata": {
        "id": "M8uShiklUXs2"
      },
      "source": [
        "# cria gráfico de correlação entre as colunas\n",
        "def cria_grafico_corr(inicio='g0', final='g50'):\n",
        "  # Compute the correlation matrix\n",
        "  corr = df_experimentos.loc[:, inicio:final].corr()\n",
        "\n",
        "  # Generate a mask for the upper triangle\n",
        "  mask = np.triu(np.ones_like(corr, dtype=bool))\n",
        "\n",
        "  # Set up the matplotlib figure\n",
        "  f, ax = plt.subplots(figsize=(11, 9))\n",
        "\n",
        "  # Generate a custom diverging colormap\n",
        "  cmap = sns.diverging_palette(230, 20, as_cmap=True)\n",
        "\n",
        "  # Draw the heatmap with the mask and correct aspect ratio\n",
        "  sns.heatmap(corr, mask=mask, cmap=cmap, center=0,\n",
        "              square=True, linewidths=.5, cbar_kws={\"shrink\": .5});\n",
        "  return None"
      ],
      "execution_count": null,
      "outputs": []
    },
    {
      "cell_type": "code",
      "metadata": {
        "id": "Z0IBarMvHLNT"
      },
      "source": [
        "# criando mapa de correlação entre as 50 primeiras colunas g\n",
        "cria_grafico_corr(inicio='g0', final='g49')"
      ],
      "execution_count": null,
      "outputs": []
    },
    {
      "cell_type": "code",
      "metadata": {
        "id": "9egzhSuRHWc1"
      },
      "source": [
        "# criando mapa de correlação entre as 50 primeiras colunas c\n",
        "cria_grafico_corr(inicio='c0', final='c49')"
      ],
      "execution_count": null,
      "outputs": []
    },
    {
      "cell_type": "markdown",
      "metadata": {
        "id": "PNcvLMP1KCf5"
      },
      "source": [
        "## **2. Análise do Dataset de Resultados**\n",
        "\n",
        "O Dataset Resultados é composto pelos **Mecanismos de Ação** que resultam da assinatura celular. Além da coluna **\"id\"**, o dataset é composto por diversas nomenclaturas que representam os Mecanismos de Ação.\n",
        "\n",
        "<img src='//upload.wikimedia.org/wikipedia/commons/thumb/e/ec/Mechanism_of_action_for_beta_blockers.png/220px-Mechanism_of_action_for_beta_blockers.png' align='left'></img>\n",
        "\"Em farmacologia, a expressão mecanismo de ação refere-se à intereção bioquímica através da daqual uma droga produz um efeito farmacológico.Um mecanismo de ação usualmente inclui menção de um \"alvo\" molecular específico no qual a droga liga-se, tal como uma enzima ou receptor.\"\n",
        "\n",
        "Site para consulta - [Link para ler mais](https://pt.wikipedia.org/wiki/Mecanismo_de_a%C3%A7%C3%A3o).\n",
        "\n",
        "Verifica-se que as colunas são compostas por nomes terminados com \"_inhibitor\" (suprimem ou inibem a ação sobre uma enzima), bem como por \"_agonist\" e \"_antagonist\" (estes bloqueiam o receptor, enquanto aqueles ativam ou potencializam o receptor).\n",
        "\n",
        "Cada linha da base de dados é o resultado de um experimento na base dedados. Quando o mecanismo de ação ele recebe o valor 1.\n",
        "\n",
        "Através da análise descritiva realizada no dataset responderemos as seguintes perguntas:\n",
        "\n",
        "<body>\n",
        "  <ol>\n",
        "    <li>Qual o mecanismo de ação que foi mais ativado?</li>\n",
        "    <li>Os tipos de tratamento com_controle ativaram algum mecanismo de ação?</li>\n",
        "    <li>Algum composto não ativou algum mecanismo de ação?</li>\n",
        "  </ol>\n",
        "</body>"
      ]
    },
    {
      "cell_type": "code",
      "metadata": {
        "id": "UKcT7bOiYkMM"
      },
      "source": [
        "# carregando o dataset resultados\n",
        "df_resultados = pd.read_csv(arquivo_resultados)\n",
        "\n",
        "# visualização das cinco primeiras linhas do dataset resultados\n",
        "df_resultados.head()"
      ],
      "execution_count": null,
      "outputs": []
    },
    {
      "cell_type": "code",
      "metadata": {
        "id": "VT8zBdjjTdbM"
      },
      "source": [
        "# verificando quantidade de linhas e colunas do datase\n",
        "linhas, colunas = df_resultados.shape\n",
        "print(f'Número de linhas: {linhas}')\n",
        "print(f'Número de colunas: {colunas}')"
      ],
      "execution_count": null,
      "outputs": []
    },
    {
      "cell_type": "markdown",
      "metadata": {
        "id": "1El0frpETipd"
      },
      "source": [
        "Através da consulta acima, verificamos que o dataset resultados contém 207 colunas, excetuando-se a coluna \"id\", conclui-se, então que o dataset possui 206 mecanismos de ação.\n",
        "\n",
        "Tais mecanismos de ação recebem o valor 1, a partir  da assinatura celular, quando eles foram ativados, e o valor 0, quando não foram ativados. Como pode-se ver abaixo como o exemplo do 'acat_inhibitor'."
      ]
    },
    {
      "cell_type": "code",
      "metadata": {
        "id": "OqWQmXpNTmmQ"
      },
      "source": [
        "df_resultados['acat_inhibitor'].unique()"
      ],
      "execution_count": null,
      "outputs": []
    },
    {
      "cell_type": "code",
      "metadata": {
        "id": "a_9rqnQzUoiU"
      },
      "source": [
        "# verificando Mecanismos de Ação de colunas por atuação\n",
        "inhibitor = []\n",
        "agonist = []\n",
        "antagonist = []\n",
        "for coluna in df_resultados.columns:\n",
        "  if coluna.endswith('_inhibitor'):\n",
        "    inhibitor.append(coluna)\n",
        "  elif coluna.endswith('_agonist'):\n",
        "    agonist.append(coluna)\n",
        "  else:\n",
        "    antagonist.append(coluna)\n",
        "\n",
        "print(f'Inhibitor: {len(inhibitor)}')\n",
        "print(f'Agonist: {len(agonist)}')\n",
        "print(f'Antagonist: {len(antagonist)}')"
      ],
      "execution_count": null,
      "outputs": []
    },
    {
      "cell_type": "markdown",
      "metadata": {
        "id": "eajNRfpQWQ6p"
      },
      "source": [
        "Através do código acima, pude concluir que das 207 colunas com mecanismos de ação 112 são inhibitor, 28 agonist e 67 antagonist."
      ]
    },
    {
      "cell_type": "code",
      "metadata": {
        "id": "0V8OOEFJWtVO"
      },
      "source": [
        "# mecanismo de ação mais ativado\n",
        "contagem_moa = df_resultados.select_dtypes( 'int64' ).sum().sort_values( ascending=False )[:10]\n",
        "contagem_moa"
      ],
      "execution_count": null,
      "outputs": []
    },
    {
      "cell_type": "markdown",
      "metadata": {
        "id": "pRoLOuv2eUjI"
      },
      "source": [
        "Através do fragmento de código acima, verfica-se que o mecanismo de ação 'nfkb_inibitor' foi ativado 832 vezes, sendo então o mecanismo de ação mais ativado.\n",
        "\n",
        "Também foi visualizado que dentre os 10 mecanismos de ação mais ativados, 6 são do tipo 'inhibitor' e 4 do tipo 'antagonist'.\n",
        "\n",
        "Dando prosseguimento vamos criar duas novas colunas no dataset resultados, informando quand"
      ]
    },
    {
      "cell_type": "code",
      "metadata": {
        "id": "Uiiu8anoansn"
      },
      "source": [
        "# criando coluna que conta quantos mecanismos de ação foram ativados por assinatura celular\n",
        "df_resultados.loc[:, 'n_moa'] = df_resultados.drop('id', axis=1).sum( axis=1 )\n",
        "\n",
        "# criando coluna de booleano se o mecanismo de ação foi ativado ou não\n",
        "df_resultados.loc[:, 'ativo_moa'] = (df_resultados['n_moa'] != 0)\n",
        "\n",
        "# verificando as cinco primeiros linhas do dataset resultados\n",
        "df_resultados.head()"
      ],
      "execution_count": null,
      "outputs": []
    },
    {
      "cell_type": "markdown",
      "metadata": {
        "id": "q0muZrw0xADM"
      },
      "source": [
        "Verifiquei que alguns mecanismos de ação não foram ativados. Presume-se que o tipo de tratamento com controle não deve acionar nenhum mecanismo de ação. Dessa forma, fiz um junção entre os dois datasets experimentos e resultados, deste dataset apenas levando as colunas recém criadas \"n_moa\" e \"ativo_moa\" que condensam a análise.\n",
        "\n",
        "A partir do novo DataFrame criado verifiquei se o tipo de tratamento \"com_controle\" ativou algum mecanismo de ação."
      ]
    },
    {
      "cell_type": "code",
      "metadata": {
        "id": "LOGeAAMtiM7r"
      },
      "source": [
        "# fazendo a jução dos DataFrames df_experimentos e df_resultados\n",
        "df_combinados = pd.merge(df_experimentos, df_resultados[['id', 'n_moa', 'ativo_moa']], on='id')\n",
        "\n",
        "# verificando as cinco primeiras linhas do DataFrame criado\n",
        "df_combinados.head()"
      ],
      "execution_count": null,
      "outputs": []
    },
    {
      "cell_type": "code",
      "metadata": {
        "id": "ull-hd_HitsA"
      },
      "source": [
        "# verificando se o tratamento com controle não ativou nenhum mecanismo de ação.\n",
        "df_combinados.query('tratamento == \"com_controle\"')['ativo_moa'].unique()"
      ],
      "execution_count": null,
      "outputs": []
    },
    {
      "cell_type": "code",
      "metadata": {
        "id": "4Sk_KrbOlFNw"
      },
      "source": [
        "# verificando se o tratamento com controle não ativou nenhum mecanismo de ação.\n",
        "df_combinados.query('tratamento == \"com_droga\"')['ativo_moa'].value_counts()"
      ],
      "execution_count": null,
      "outputs": []
    },
    {
      "cell_type": "markdown",
      "metadata": {
        "id": "2ulUwEa3khYq"
      },
      "source": [
        "O resultado, como experado, foi que o tipo de tratamento \"com_controle\" não ativou nenhum mecanismo de ação. Por outro lado, verificamos que 7501 tipos de tratamento \"com_droga\" também não ativaram nenhum mecanismo de ação. Fato que deve ser motivo de estudos com objetivo de identificar o motivo."
      ]
    },
    {
      "cell_type": "markdown",
      "metadata": {
        "id": "I_hV-adDl46Z"
      },
      "source": [
        "## **3. Avaliação Preditiva**\n",
        "\n",
        "Nesta parte do projeto, meu objetivo concentrou-se em saber se o conjunto de dados seria capaz de, dado um conjunto de atributos, é possível saber se a dose aplicada àquele conjunto é D1 ou D2 através da análise do conjunto de dados.\n",
        "\n",
        "Para tanto irei fazer algumas transformações no DataFrame. O atributo alvo será convertido de variável categórica em boleano, em que o tipo de dose D1 será transformado no booleano 0, e o tipo de dose D2 no booleano 1.\n",
        "\n",
        "Ainda na etapa de pré-processamento os atributos categórios serão codificados em numéricos através da utilização de uma função do pandas chamada ```get_dummies()```. O mesmo resultado poderia ser obtido através da utilização do módulo ```OneHotEncoder()``` da biblioteca Sklearn.\n",
        "\n",
        "Após a fase de pré-processamento dos dados, estes serão divididos em **atributos** (variáveis selecionadas) e a variável **alvo**. Estes por sua vez serão subdivididos em dados do treino e dados de teste. Ituitivamente, aqueles servirão para treinar o modelo e estes para testá-lo e avaliá-lo.\n",
        "\n",
        "O modelo utilizado para essa avaliação é o algoritmo de classificação por apredizado supervisionado **Random Forest** também pertencente à biblioteca de machine learning Sklearn, podendo ser importada a partir da sintaxe:\n",
        "\n",
        "```from sklearn.ensemble import RandomForestClassifier```"
      ]
    },
    {
      "cell_type": "code",
      "metadata": {
        "id": "AsZxjBDnpLNW"
      },
      "source": [
        "# convertendo a coluna algo \"dose\" para numérico\n",
        "enc = LabelEncoder()\n",
        "dose_int = enc.fit_transform( df_combinados['dose'] )\n",
        "df_combinados['dose_int'] = dose_int\n",
        "df_combinados.drop( 'dose', axis=1, inplace=True )"
      ],
      "execution_count": null,
      "outputs": []
    },
    {
      "cell_type": "code",
      "metadata": {
        "id": "gPwdmLb9qJ2Z"
      },
      "source": [
        "# realizando a separação dos dados e transformando colunas categóricas em numéricas\n",
        "X = df_combinados.drop( [ 'id', 'composto', 'ativo_moa', 'dose_int' ], axis=1 )\n",
        "X = pd.get_dummies( X, columns=[ 'tratamento', 'tempo' ] )\n",
        "y = df_combinados['dose_int']\n",
        "\n",
        "# dividindo os dados em treino e teste\n",
        "X_treino, X_teste, y_treino, y_teste =  train_test_split( X, y,\n",
        "                                                         test_size=0.2,\n",
        "                                                         random_state=0)\n",
        "\n",
        "# instanciando o classificador\n",
        "rf_clf = RandomForestClassifier(criterion='entropy',\n",
        "                                max_depth=10,\n",
        "                                min_samples_leaf=5,\n",
        "                                min_samples_split=2,\n",
        "                                n_estimators=150, random_state=0)\n",
        "# treinando o modelo\n",
        "rf_clf.fit( X_treino, y_treino )\n",
        "\n",
        "# predizendo o modelo com os dados de teste\n",
        "resultado = rf_clf.predict( X_teste )\n",
        "\n",
        "# avaliando o modelo com base na acurácia\n",
        "acuracia = accuracy_score( y_teste, resultado )\n",
        "\n",
        "print(f'Acurácia: {acuracia}')"
      ],
      "execution_count": null,
      "outputs": []
    },
    {
      "cell_type": "markdown",
      "metadata": {
        "id": "SJQaxa8k3RwQ"
      },
      "source": [
        "Do experimento aplicado foi obtido uma taxa de acurácia de 0.957589, o que é um valor significativo de assertividade. Cabe salientar que esse modelo pode ser afinado (*tunning*) com a utilização do módulo ```GridSeachCV()``` da biblioteca Sklearn.\n",
        "\n",
        "Por fim segue um relatório de classificação contendo outra métricas de avaliação do modelo."
      ]
    },
    {
      "cell_type": "code",
      "metadata": {
        "id": "VuKalL3xAjza"
      },
      "source": [
        "# criando uma tabela com algumas métricas de avaliação do modelo\n",
        "print(\n",
        "    classification_report( y_teste, resultado )\n",
        ")"
      ],
      "execution_count": null,
      "outputs": []
    }
  ]
}